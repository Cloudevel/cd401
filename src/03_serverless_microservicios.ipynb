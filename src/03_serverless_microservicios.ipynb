{
 "cells": [
  {
   "cell_type": "markdown",
   "metadata": {
    "collapsed": true,
    "slideshow": {
     "slide_type": "slide"
    }
   },
   "source": [
    "![cloudevel](imagenes/cloudevel-fondo-twitter.png)\n",
    "\n",
    "# Serverless, microservicios y lambdas.\n",
    " \n",
    "#### José Luis Chiquete V.\n",
    "#####  2018."
   ]
  },
  {
   "cell_type": "markdown",
   "metadata": {
    "collapsed": true,
    "slideshow": {
     "slide_type": "slide"
    }
   },
   "source": [
    "Uno de los obstáculos para los desarrolladores de software tiene que ver con el aprovisionamiento de una infraestructura adecuada, capaz de ser:"
   ]
  },
  {
   "cell_type": "markdown",
   "metadata": {
    "collapsed": true,
    "slideshow": {
     "slide_type": "fragment"
    }
   },
   "source": [
    "* Simple."
   ]
  },
  {
   "cell_type": "markdown",
   "metadata": {
    "slideshow": {
     "slide_type": "fragment"
    }
   },
   "source": [
    "* Escalable."
   ]
  },
  {
   "cell_type": "markdown",
   "metadata": {
    "slideshow": {
     "slide_type": "fragment"
    }
   },
   "source": [
    "* Autónoma."
   ]
  },
  {
   "cell_type": "markdown",
   "metadata": {
    "slideshow": {
     "slide_type": "fragment"
    }
   },
   "source": [
    "* Autogestionada."
   ]
  },
  {
   "cell_type": "markdown",
   "metadata": {
    "slideshow": {
     "slide_type": "fragment"
    }
   },
   "source": [
    "* Modular."
   ]
  },
  {
   "cell_type": "markdown",
   "metadata": {
    "slideshow": {
     "slide_type": "slide"
    }
   },
   "source": [
    "# Conceptos relacionados."
   ]
  },
  {
   "cell_type": "markdown",
   "metadata": {
    "slideshow": {
     "slide_type": "fragment"
    }
   },
   "source": [
    "* Idempotencia."
   ]
  },
  {
   "cell_type": "markdown",
   "metadata": {
    "slideshow": {
     "slide_type": "fragment"
    }
   },
   "source": [
    "* Desacoplamiento."
   ]
  },
  {
   "cell_type": "markdown",
   "metadata": {
    "slideshow": {
     "slide_type": "fragment"
    }
   },
   "source": [
    "* Encapsulamiento."
   ]
  },
  {
   "cell_type": "markdown",
   "metadata": {
    "slideshow": {
     "slide_type": "slide"
    }
   },
   "source": [
    " # Funciones y lambdas."
   ]
  },
  {
   "cell_type": "markdown",
   "metadata": {
    "slideshow": {
     "slide_type": "subslide"
    }
   },
   "source": [
    "## El paradigma de la programación funcional.\n",
    "\n",
    "![church](imagenes/Alonzo_Church.jpg)\n",
    "\n",
    "Tiene su origen en la teoría del cálculo lambda."
   ]
  },
  {
   "cell_type": "markdown",
   "metadata": {
    "slideshow": {
     "slide_type": "subslide"
    }
   },
   "source": [
    "##  Funciones puras.\n",
    "\n",
    "    * Son aquellas funciones que regresan el mismo resultado si se ingresan los mismos argumentos.\n",
    "    * No causan efectos colaterales.\n",
    "    * Procesan información sin cambiar de estado.\n"
   ]
  },
  {
   "cell_type": "markdown",
   "metadata": {
    "slideshow": {
     "slide_type": "subslide"
    }
   },
   "source": [
    "## Funciones lambda.\n",
    "\n",
    "* También conocidas como funciones anónimas.\n",
    "* Son funciones que se definen en una sola expresión."
   ]
  },
  {
   "cell_type": "markdown",
   "metadata": {
    "slideshow": {
     "slide_type": "slide"
    }
   },
   "source": [
    "## Servicios/agentes sin estado."
   ]
  },
  {
   "cell_type": "markdown",
   "metadata": {
    "slideshow": {
     "slide_type": "fragment"
    }
   },
   "source": [
    "* Los servicios sin estado son una especie de función pura.\n",
    "* Reciben un mensaje, lo procesan y en su caso, envían un nuevo mensaje a partir del proceso.\n",
    "* Estos servicios no dependen del estado del sistema completo.\n",
    "* Pueden recibir mensajes en un orden aleatorio.\n",
    "* En caso de fallo, el servicio se reinicia.\n",
    "\n"
   ]
  },
  {
   "cell_type": "markdown",
   "metadata": {
    "slideshow": {
     "slide_type": "slide"
    }
   },
   "source": [
    "## Enfilado y dispersión de mensajes.\n",
    "\n",
    "En vista de que los servicios sin estado no tienen control del flujo de los datos que recibe y regresa, en necesario contar con un sistema capaz de controlar el flujo de la información.\n",
    "\n",
    "Los sistemas de enfilado de mensajes (Message Queuing) son los encargados de hacer que el flujo de datos sea orquestado adecuadamente entre los servicios/agentes. "
   ]
  },
  {
   "cell_type": "markdown",
   "metadata": {
    "slideshow": {
     "slide_type": "subslide"
    }
   },
   "source": [
    "### El protocolo AMQP.\n",
    "\n",
    "El prootcolo avanzado para enfilado de mensajes [AMQP](http://www.amqp.org/)  corresponde al estándar ISO/IEC 19464, el cual describe y especifica el modo en el que se puede realizar la interoperabilidad  entre los mensajes y el middleware."
   ]
  },
  {
   "cell_type": "markdown",
   "metadata": {
    "slideshow": {
     "slide_type": "subslide"
    }
   },
   "source": [
    "### Algunos sistemas de enfilado de mensajes son:\n",
    "\n",
    "* [RabbitMQ.](http://www.rabbitmq.com/)\n",
    "* [ZeroMQ.](http://zeromq.org/)\n",
    "* [Akka.](https://akka.io/)\n",
    "* [Apache Kafka.](https://kafka.apache.org/)"
   ]
  },
  {
   "cell_type": "markdown",
   "metadata": {
    "slideshow": {
     "slide_type": "slide"
    }
   },
   "source": [
    "## Microservicios.\n",
    "\n",
    "Es una arquitectura orientada a servicios (SOA) propuesta por Martin Fowler, la cual permite generar pequeños servidores altamente especializados cuyas funcionalidades son expuestas mediante una API."
   ]
  },
  {
   "cell_type": "markdown",
   "metadata": {
    "slideshow": {
     "slide_type": "subslide"
    }
   },
   "source": [
    "La naturaleza de los microservicios les confieren las siguientes características:"
   ]
  },
  {
   "cell_type": "markdown",
   "metadata": {
    "slideshow": {
     "slide_type": "fragment"
    }
   },
   "source": [
    "* Modulares."
   ]
  },
  {
   "cell_type": "markdown",
   "metadata": {
    "slideshow": {
     "slide_type": "fragment"
    }
   },
   "source": [
    "* Intercambiables. "
   ]
  },
  {
   "cell_type": "markdown",
   "metadata": {
    "slideshow": {
     "slide_type": "fragment"
    }
   },
   "source": [
    "* Sin estado."
   ]
  },
  {
   "cell_type": "markdown",
   "metadata": {
    "slideshow": {
     "slide_type": "fragment"
    }
   },
   "source": [
    "* Interoperables."
   ]
  },
  {
   "cell_type": "markdown",
   "metadata": {
    "slideshow": {
     "slide_type": "fragment"
    }
   },
   "source": [
    "* Ligeros."
   ]
  },
  {
   "cell_type": "markdown",
   "metadata": {
    "slideshow": {
     "slide_type": "subslide"
    }
   },
   "source": [
    "Estas características los hacen muy compatibles con los contenedores."
   ]
  },
  {
   "cell_type": "markdown",
   "metadata": {
    "slideshow": {
     "slide_type": "slide"
    }
   },
   "source": [
    "# El framework serverless.\n",
    "\n",
    "A partir del concepto de Funciones como servicio (FaaS) ha surgido el [Framework Serverless](https://serverless.com/learn/), el cual tiene por objeto garantizar servicios:"
   ]
  },
  {
   "cell_type": "markdown",
   "metadata": {
    "slideshow": {
     "slide_type": "fragment"
    }
   },
   "source": [
    "* Con cero administación.\n",
    "\n"
   ]
  },
  {
   "cell_type": "markdown",
   "metadata": {
    "slideshow": {
     "slide_type": "fragment"
    }
   },
   "source": [
    "* Autoescalables."
   ]
  },
  {
   "cell_type": "markdown",
   "metadata": {
    "slideshow": {
     "slide_type": "fragment"
    }
   },
   "source": [
    "* Con tarifas en función del uso."
   ]
  },
  {
   "cell_type": "markdown",
   "metadata": {
    "slideshow": {
     "slide_type": "fragment"
    }
   },
   "source": [
    "* De desarrollo y despliege rápido."
   ]
  },
  {
   "cell_type": "markdown",
   "metadata": {
    "slideshow": {
     "slide_type": "fragment"
    }
   },
   "source": [
    "* Automatización."
   ]
  },
  {
   "cell_type": "markdown",
   "metadata": {
    "slideshow": {
     "slide_type": "slide"
    }
   },
   "source": [
    "## Interoperabilidad entre lenguajes de programación.\n",
    "\n",
    "La idea de los microservicios se basa en el desarrollo de API capaces de transmitir datos entre los servidores. \n",
    "Sin embargo, existen casos en los que un sistema está integrado por componentes que no sólo no cuentan con una API definida, sino que fueron escritos en diversos lenguajes de programación."
   ]
  },
  {
   "cell_type": "markdown",
   "metadata": {
    "slideshow": {
     "slide_type": "fragment"
    }
   },
   "source": [
    "El proyecto [Apache Thirft](https://thrift.apache.org/) consiste en un framework capaz de generar un traductor simultáneo de código que permite interpoerar entre servicios escritos con diversos lenguajes de programacion."
   ]
  },
  {
   "cell_type": "markdown",
   "metadata": {
    "slideshow": {
     "slide_type": "slide"
    }
   },
   "source": [
    "![cloudevel](imagenes/cloudevel-fondo-twitter.png)\n",
    "<p style=\"text-align: center\"><a rel=\"license\" href=\"http://creativecommons.org/licenses/by/4.0/\"><img alt=\"Licencia Creative Commons\" style=\"border-width:0\" src=\"https://i.creativecommons.org/l/by/4.0/80x15.png\" /></a><br />Esta obra está bajo una <a rel=\"license\" href=\"http://creativecommons.org/licenses/by/4.0/\">Licencia Creative Commons Atribución 4.0 Internacional</a>.</p>\n",
    "<p style=\"text-align: center\">&copy; José Luis Chiquete Valdivieso. 2018.</p>"
   ]
  }
 ],
 "metadata": {
  "celltoolbar": "Slideshow",
  "kernelspec": {
   "display_name": "Python 3",
   "language": "python",
   "name": "python3"
  },
  "language_info": {
   "codemirror_mode": {
    "name": "ipython",
    "version": 3
   },
   "file_extension": ".py",
   "mimetype": "text/x-python",
   "name": "python",
   "nbconvert_exporter": "python",
   "pygments_lexer": "ipython3",
   "version": "3.6.3"
  }
 },
 "nbformat": 4,
 "nbformat_minor": 2
}
